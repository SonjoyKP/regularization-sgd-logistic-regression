{
 "cells": [
  {
   "cell_type": "markdown",
   "metadata": {},
   "source": [
    "## 1. Solution of Ridge Regression and Lasso"
   ]
  },
  {
   "cell_type": "markdown",
   "metadata": {},
   "source": [
    "### Ridge Regression Objective:\n",
    "The Ridge regression problem is given by:\n",
    "\n",
    "$$\n",
    "\\min_{\\mathbf{w}, w_0} \\left( \\frac{1}{2} \\|\\mathbf{X}\\mathbf{w} + w_0 - \\mathbf{y}\\|^2 + \\lambda \\|\\mathbf{w}\\|^2_2 \\right)\n",
    "$$\n",
    "\n",
    "### Lasso Regression Objective:\n",
    "\n",
    "The Lasso regression problem is given by:\n",
    "\n",
    "$$\n",
    "\\min_{\\mathbf{w}, w_0} \\left( \\frac{1}{2} \\|\\mathbf{X}\\mathbf{w} + w_0 - \\mathbf{y}\\|^2 + \\lambda \\|\\mathbf{w}\\|_1 \\right)\n",
    "$$"
   ]
  },
  {
   "cell_type": "code",
   "execution_count": 1,
   "metadata": {},
   "outputs": [],
   "source": [
    "import numpy as np\n",
    "from sklearn.linear_model import Ridge, Lasso\n",
    "from sklearn.model_selection import train_test_split\n",
    "from sklearn.datasets import load_svmlight_files\n",
    "from sklearn.metrics import mean_squared_error\n",
    "import matplotlib.pyplot as plt"
   ]
  },
  {
   "cell_type": "code",
   "execution_count": 7,
   "metadata": {},
   "outputs": [
    {
     "name": "stdout",
     "output_type": "stream",
     "text": [
      "16087\n"
     ]
    }
   ],
   "source": [
    "# Load the E2006-tfidf dataset\n",
    "X_train, y_train, X_test, y_test = load_svmlight_files(('E2006.train', 'E2006.test'))  # Adjust path as needed\n",
    "num_samples = X_train.shape[0] #should be 16087\n",
    "print(num_samples)"
   ]
  },
  {
   "cell_type": "code",
   "execution_count": 9,
   "metadata": {},
   "outputs": [
    {
     "name": "stdout",
     "output_type": "stream",
     "text": [
      "Nonzero coefficients in Ridge: 150348\n",
      "Nonzero coefficients in Lasso: 102\n"
     ]
    }
   ],
   "source": [
    "lamda = 0.1\n",
    "# Ridge Regression\n",
    "\n",
    "ridge = Ridge(alpha=lamda)\n",
    "ridge.fit(X_train, y_train)\n",
    "ridge_w = ridge.coef_\n",
    "\n",
    "# Lasso Regression\n",
    "lasso = Lasso(alpha=lamda / len(y_train))  # lambda/n for Lasso in sklearn\n",
    "lasso.fit(X_train, y_train)\n",
    "lasso_w = lasso.coef_\n",
    "\n",
    "# Number of nonzero coefficients\n",
    "ridge_nonzero = np.sum(ridge_w != 0)\n",
    "lasso_nonzero = np.sum(lasso_w != 0)\n",
    "\n",
    "print(f'Nonzero coefficients in Ridge: {ridge_nonzero}')\n",
    "print(f'Nonzero coefficients in Lasso: {lasso_nonzero}')"
   ]
  },
  {
   "cell_type": "markdown",
   "metadata": {},
   "source": [
    "### Observations:\n",
    "- Ridge regression tends to shrink the coefficients but does not set them to zero.\n",
    "- Lasso regression, due to the  $L_1$ -norm regularization, can set many coefficients exactly to zero, resulting in a sparse solution.\n",
    "- The difference is due to the nature of the regularization:  $L_2$ -norm penalizes large coefficients but keeps most of them, while  $L_1$ -norm encourages sparsity by driving coefficients to zero."
   ]
  },
  {
   "cell_type": "markdown",
   "metadata": {},
   "source": [
    "## 2. Training and Testing Error with Different Values of  $\\lambda$"
   ]
  },
  {
   "cell_type": "markdown",
   "metadata": {},
   "source": [
    "### (i) RMSE Calculation:\n",
    "\n",
    "To compute the RMSE for both training and testing data at different values of  $\\lambda$ :"
   ]
  },
  {
   "cell_type": "code",
   "execution_count": null,
   "metadata": {},
   "outputs": [],
   "source": [
    "from sklearn.metrics import mean_squared_error\n",
    "import matplotlib.pyplot as plt\n",
    "\n",
    "# Lambda values\n",
    "lambdas = [0, 1e-5, 1e-3, 1e-2, 0.1, 1, 10, 100, 1e3, 1e4, 1e5, 1e6]\n",
    "ridge_errors_train = []\n",
    "ridge_errors_test = []\n",
    "lasso_errors_train = []\n",
    "lasso_errors_test = []\n",
    "\n",
    "for lmbda in lambdas:\n",
    "    # Ridge regression\n",
    "    ridge = Ridge(alpha=lmbda)\n",
    "    ridge.fit(X_train, y_train)\n",
    "    ridge_train_rmse = np.sqrt(mean_squared_error(y_train, ridge.predict(X_train)))\n",
    "    ridge_test_rmse = np.sqrt(mean_squared_error(y_test, ridge.predict(X_test)))\n",
    "    ridge_errors_train.append(ridge_train_rmse)\n",
    "    ridge_errors_test.append(ridge_test_rmse)\n",
    "\n",
    "    # Lasso regression\n",
    "    lasso = Lasso(alpha=lmbda / len(y_train))\n",
    "    lasso.fit(X_train, y_train)\n",
    "    lasso_train_rmse = np.sqrt(mean_squared_error(y_train, lasso.predict(X_train)))\n",
    "    lasso_test_rmse = np.sqrt(mean_squared_error(y_test, lasso.predict(X_test)))\n",
    "    lasso_errors_train.append(lasso_train_rmse)\n",
    "    lasso_errors_test.append(lasso_test_rmse)\n",
    "\n",
    "# Plotting RMSE for Ridge and Lasso\n",
    "plt.figure(figsize=(10, 6))\n",
    "plt.plot(lambdas, ridge_errors_train, label='Ridge Train RMSE')\n",
    "plt.plot(lambdas, ridge_errors_test, label='Ridge Test RMSE')\n",
    "plt.plot(lambdas, lasso_errors_train, label='Lasso Train RMSE')\n",
    "plt.plot(lambdas, lasso_errors_test, label='Lasso Test RMSE')\n",
    "plt.xscale('log')\n",
    "plt.xlabel('Lambda')\n",
    "plt.ylabel('RMSE')\n",
    "plt.legend()\n",
    "plt.title('RMSE vs Lambda')\n",
    "plt.show()"
   ]
  }
 ],
 "metadata": {
  "kernelspec": {
   "display_name": "Python 3",
   "language": "python",
   "name": "python3"
  },
  "language_info": {
   "codemirror_mode": {
    "name": "ipython",
    "version": 3
   },
   "file_extension": ".py",
   "mimetype": "text/x-python",
   "name": "python",
   "nbconvert_exporter": "python",
   "pygments_lexer": "ipython3",
   "version": "3.9.6"
  }
 },
 "nbformat": 4,
 "nbformat_minor": 2
}
