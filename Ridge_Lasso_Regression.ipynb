{
 "cells": [
  {
   "cell_type": "markdown",
   "metadata": {},
   "source": [
    "## 3. (1) Solution of Ridge Regression and Lasso"
   ]
  },
  {
   "cell_type": "markdown",
   "metadata": {},
   "source": [
    "### Ridge Regression Objective:\n",
    "The Ridge regression problem is given by:\n",
    "\n",
    "$$\n",
    "\\min_{\\mathbf{w}, w_0} \\left( \\frac{1}{2} \\|\\mathbf{X}\\mathbf{w} + w_0 - \\mathbf{y}\\|^2 + \\lambda \\|\\mathbf{w}\\|^2_2 \\right)\n",
    "$$\n",
    "\n",
    "### Lasso Regression Objective:\n",
    "\n",
    "The Lasso regression problem is given by:\n",
    "\n",
    "$$\n",
    "\\min_{\\mathbf{w}, w_0} \\left( \\frac{1}{2} \\|\\mathbf{X}\\mathbf{w} + w_0 - \\mathbf{y}\\|^2 + \\lambda \\|\\mathbf{w}\\|_1 \\right)\n",
    "$$"
   ]
  },
  {
   "cell_type": "code",
   "execution_count": 1,
   "metadata": {},
   "outputs": [],
   "source": [
    "import numpy as np\n",
    "from sklearn.linear_model import Ridge, Lasso\n",
    "from sklearn.datasets import load_svmlight_files\n",
    "from sklearn.metrics import mean_squared_error\n",
    "import matplotlib.pyplot as plt"
   ]
  },
  {
   "cell_type": "code",
   "execution_count": 2,
   "metadata": {},
   "outputs": [
    {
     "name": "stdout",
     "output_type": "stream",
     "text": [
      "16087\n"
     ]
    }
   ],
   "source": [
    "# Load the E2006-tfidf dataset which is downloaded from https://www.csie.ntu.edu.tw/~cjlin/libsvmtools/datasets/regression.html\n",
    "X_train, y_train, X_test, y_test = load_svmlight_files(('E2006.train', 'E2006.test'))  # Adjust path as needed\n",
    "\n",
    "num_samples = X_train.shape[0] #should be 16087\n",
    "print(num_samples)"
   ]
  },
  {
   "cell_type": "code",
   "execution_count": 3,
   "metadata": {},
   "outputs": [],
   "source": [
    "lamda = 0.1\n",
    "# Ridge Regression\n",
    "\n",
    "ridge = Ridge(alpha=lamda)\n",
    "ridge.fit(X_train, y_train)\n",
    "ridge_w = ridge.coef_\n",
    "\n",
    "# Lasso Regression\n",
    "lasso = Lasso(alpha=lamda / len(y_train))  # lambda/n for Lasso in sklearn\n",
    "lasso.fit(X_train, y_train)\n",
    "lasso_w = lasso.coef_\n",
    "\n",
    "# Number of nonzero coefficients\n",
    "ridge_nonzero = np.sum(ridge_w != 0)\n",
    "lasso_nonzero = np.sum(lasso_w != 0)\n",
    "\n",
    "print(f'Nonzero coefficients in Ridge: {ridge_nonzero}')\n",
    "print(f'Nonzero coefficients in Lasso: {lasso_nonzero}')"
   ]
  },
  {
   "cell_type": "markdown",
   "metadata": {},
   "source": [
    "### Observations:\n",
    "- Ridge regression tends to shrink the coefficients but does not set them to zero.\n",
    "- Lasso regression, due to the  $L_1$ -norm regularization, can set many coefficients exactly to zero, resulting in a sparse solution.\n",
    "- The difference is due to the nature of the regularization:  $L_2$ -norm penalizes large coefficients but keeps most of them, while  $L_1$ -norm encourages sparsity by driving coefficients to zero."
   ]
  },
  {
   "cell_type": "markdown",
   "metadata": {},
   "source": [
    "## 3.(2) Training and Testing Error with Different Values of λ"
   ]
  },
  {
   "cell_type": "markdown",
   "metadata": {},
   "source": [
    "### 3.(2)(i) RMSE Calculation:\n",
    "\n",
    "To compute the RMSE for both training and testing data at different values of  $\\lambda$ :"
   ]
  },
  {
   "cell_type": "code",
   "execution_count": 4,
   "metadata": {},
   "outputs": [],
   "source": [
    "# Lambda values\n",
    "lambdas = [0, 0.1, 1, 10, 100, 1e3, 1e4, 1e5, 1e6]"
   ]
  },
  {
   "cell_type": "code",
   "execution_count": null,
   "metadata": {},
   "outputs": [],
   "source": [
    "## 3.2 Training and Testing Error with Different Values of λ\n",
    "\n",
    "from sklearn.linear_model import LinearRegression, Ridge, Lasso\n",
    "ridge_errors_train = []\n",
    "ridge_errors_test = []\n",
    "lasso_errors_train = []\n",
    "lasso_errors_test = []\n",
    "\n",
    "ridge_nonzeros = []\n",
    "lasso_nonzeros = []\n",
    "\n",
    "ridge_norms = []\n",
    "lasso_norms = []\n",
    "\n",
    "\n",
    "#3.2.1 \n",
    "for lmbda in lambdas:\n",
    "    print(lmbda)\n",
    "    # Ridge Cross-Validation\n",
    "    if lmbda == 0:\n",
    "        ridge = LinearRegression()  # Use LinearRegression for alpha=0\n",
    "    else:\n",
    "        ridge = Ridge(alpha=lmbda)\n",
    "\n",
    "    ridge.fit(X_train, y_train)\n",
    "\n",
    "    ridge_train_rmse = np.sqrt(mean_squared_error(y_train, ridge.predict(X_train)))\n",
    "    ridge_test_rmse = np.sqrt(mean_squared_error(y_test, ridge.predict(X_test)))\n",
    "    ridge_errors_train.append(ridge_train_rmse)\n",
    "    ridge_errors_test.append(ridge_test_rmse)\n",
    "\n",
    "    ridge_nonzeros.append(np.sum(ridge.coef_ != 0))\n",
    "\n",
    "    ridge_norms.append(np.linalg.norm(ridge.coef_, 2))\n",
    "\n",
    "    print(\"Ridge Done!\")\n",
    "\n",
    "    # Lasso regression\n",
    "        # Lasso Cross-Validation\n",
    "    if lmbda == 0:\n",
    "        lasso = LinearRegression()  # Use LinearRegression for alpha=0\n",
    "    else:\n",
    "        lasso = Lasso(alpha=lmbda / len(y_train))  # Increase max_iter for Lasso\n",
    "\n",
    "    lasso.fit(X_train, y_train)\n",
    "\n",
    "    lasso_train_rmse = np.sqrt(mean_squared_error(y_train, lasso.predict(X_train)))\n",
    "    lasso_test_rmse = np.sqrt(mean_squared_error(y_test, lasso.predict(X_test)))\n",
    "    lasso_errors_train.append(lasso_train_rmse)\n",
    "    lasso_errors_test.append(lasso_test_rmse)\n",
    "\n",
    "    lasso_nonzeros.append(np.sum(lasso.coef_ != 0))\n",
    "\n",
    "    lasso_norms.append(np.linalg.norm(lasso.coef_, 2))\n",
    "    print(\"lasso Done!\")\n",
    "    print(\"Lambda\", lmbda, \"Done!\")"
   ]
  },
  {
   "cell_type": "markdown",
   "metadata": {},
   "source": [
    "### 3.(2)(ii) Plot RMSE vs Lambda"
   ]
  },
  {
   "cell_type": "code",
   "execution_count": null,
   "metadata": {},
   "outputs": [],
   "source": [
    "#3.2.2 Plot RMSE vs Lambda\n",
    "plt.figure(figsize=(10, 6))\n",
    "plt.plot(lambdas, ridge_errors_train, label='Ridge Train RMSE')\n",
    "plt.plot(lambdas, ridge_errors_test, label='Ridge Test RMSE')\n",
    "plt.plot(lambdas, lasso_errors_train, label='Lasso Train RMSE')\n",
    "plt.plot(lambdas, lasso_errors_test, label='Lasso Test RMSE')\n",
    "plt.xscale('log')\n",
    "plt.xlabel('Lambda')\n",
    "plt.ylabel('RMSE')\n",
    "plt.legend()\n",
    "plt.title('RMSE vs Lambda')\n",
    "plt.show()"
   ]
  },
  {
   "cell_type": "markdown",
   "metadata": {},
   "source": [
    "### 3.(2)(iii) Number of Nonzero Coefficients vs λ"
   ]
  },
  {
   "cell_type": "code",
   "execution_count": null,
   "metadata": {},
   "outputs": [],
   "source": [
    "# 3.2.3 Number of Nonzero Coefficients vs λ\n",
    "plt.figure(figsize=(10, 6))\n",
    "plt.plot(lambdas, ridge_nonzeros, label='Ridge Nonzero Coefficients')\n",
    "plt.plot(lambdas, lasso_nonzeros, label='Lasso Nonzero Coefficients')\n",
    "plt.xscale('log')\n",
    "plt.xlabel('Lambda')\n",
    "plt.ylabel('Number of Nonzero Coefficients')\n",
    "plt.legend()\n",
    "plt.title('Nonzero Coefficients vs Lambda')\n",
    "plt.show()"
   ]
  },
  {
   "cell_type": "markdown",
   "metadata": {},
   "source": [
    "### 3.(2)(iv) $||w||^2_2$ vs λ"
   ]
  },
  {
   "cell_type": "code",
   "execution_count": null,
   "metadata": {},
   "outputs": [],
   "source": [
    "# 3.2.4 ||w||_2 vs λ\n",
    "plt.figure(figsize=(10, 6))\n",
    "plt.plot(lambdas, ridge_norms, label='Ridge $||w||^2_2$')\n",
    "plt.plot(lambdas, lasso_norms, label='Lasso $||w||^2_2$')\n",
    "plt.xscale('log')\n",
    "plt.xlabel('Lambda')\n",
    "plt.ylabel('$||w||^2_2$')\n",
    "plt.legend()\n",
    "plt.title('$||w||^2_2$ vs Lambda')\n",
    "plt.show()"
   ]
  },
  {
   "cell_type": "markdown",
   "metadata": {},
   "source": [
    "## 3.3 Cross-Validation"
   ]
  },
  {
   "cell_type": "code",
   "execution_count": null,
   "metadata": {},
   "outputs": [],
   "source": [
    "from sklearn.model_selection import cross_val_score\n",
    "from sklearn.linear_model import LinearRegression, Ridge, Lasso\n",
    "import numpy as np\n",
    "\n",
    "ridge_scores = []\n",
    "lasso_scores = []\n",
    "for lmbda in lambdas:\n",
    "    # Ridge Cross-Validation\n",
    "    if lmbda == 0:\n",
    "        ridge = LinearRegression()  # Use LinearRegression for alpha=0\n",
    "    else:\n",
    "        ridge = Ridge(alpha=lmbda)\n",
    "    \n",
    "    ridge_cv_scores = cross_val_score(ridge, X_train, y_train, cv=5, scoring='neg_mean_squared_error')\n",
    "    ridge_scores.append(np.mean(np.sqrt(-ridge_cv_scores)))\n",
    "    \n",
    "    # Lasso Cross-Validation\n",
    "    if lmbda == 0:\n",
    "        lasso = LinearRegression()  # Use LinearRegression for alpha=0\n",
    "    else:\n",
    "        lasso = Lasso(alpha=lmbda / len(y_train))  # Increase max_iter for Lasso\n",
    "    \n",
    "    lasso_cv_scores = cross_val_score(lasso, X_train, y_train, cv=5, scoring='neg_mean_squared_error')\n",
    "    lasso_scores.append(np.mean(np.sqrt(-lasso_cv_scores)))\n",
    "\n",
    "print(f'Best Ridge λ: {lambdas[np.argmin(ridge_scores)]}, Cross-Validation RMSE: {min(ridge_scores)}')\n",
    "print(f'Best Lasso λ: {lambdas[np.argmin(lasso_scores)]}, Cross-Validation RMSE: {min(lasso_scores)}')"
   ]
  },
  {
   "cell_type": "code",
   "execution_count": null,
   "metadata": {},
   "outputs": [],
   "source": [
    "# Train final models with best lambda\n",
    "best_lambda_ridge = lambdas[np.argmin(ridge_scores)]\n",
    "best_lambda_lasso = lambdas[np.argmin(lasso_scores)]\n",
    "\n",
    "ridge_final = Ridge(alpha=best_lambda_ridge)\n",
    "ridge_final.fit(X_train, y_train)\n",
    "ridge_test_rmse = np.sqrt(mean_squared_error(y_test, ridge_final.predict(X_test)))\n",
    "\n",
    "lasso_final = Lasso(alpha=best_lambda_lasso / len(y_train))\n",
    "lasso_final.fit(X_train, y_train)\n",
    "lasso_test_rmse = np.sqrt(mean_squared_error(y_test, lasso_final.predict(X_test)))\n",
    "\n",
    "print(f'Final test RMSE for Ridge: {ridge_test_rmse}')\n",
    "print(f'Final test RMSE for Lasso: {lasso_test_rmse}')"
   ]
  }
 ],
 "metadata": {
  "kernelspec": {
   "display_name": "Python 3",
   "language": "python",
   "name": "python3"
  },
  "language_info": {
   "codemirror_mode": {
    "name": "ipython",
    "version": 3
   },
   "file_extension": ".py",
   "mimetype": "text/x-python",
   "name": "python",
   "nbconvert_exporter": "python",
   "pygments_lexer": "ipython3",
   "version": "3.9.6"
  }
 },
 "nbformat": 4,
 "nbformat_minor": 2
}
